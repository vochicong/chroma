{
 "cells": [
  {
   "cell_type": "code",
   "execution_count": 1,
   "metadata": {},
   "outputs": [],
   "source": [
    "import json\n",
    "from chromadb import register\n",
    "from chromadb.utils.embedding_functions import ONNXMiniLM_L6_V2\n",
    "\n",
    "@register\n",
    "class RegisterableEF:\n",
    "\n",
    "    config: str\n",
    "    \n",
    "    def __init__(self, *args, **kwargs):\n",
    "        # Get the values of all arguments excluding self\n",
    "        args = locals()\n",
    "        args.pop('self')\n",
    "        \n",
    "        self.config = json.dumps(args)\n",
    "        self._ef = ONNXMiniLM_L6_V2()\n",
    "    \n",
    "    def __call__(self, input):\n",
    "        return self._ef(input=input)\n",
    "\n"
   ]
  },
  {
   "cell_type": "code",
   "execution_count": null,
   "metadata": {},
   "outputs": [],
   "source": [
    "import chromadb\n",
    "chromadb.TheRegistry._instance.registry"
   ]
  }
 ],
 "metadata": {
  "kernelspec": {
   "display_name": "chroma",
   "language": "python",
   "name": "python3"
  },
  "language_info": {
   "codemirror_mode": {
    "name": "ipython",
    "version": 3
   },
   "file_extension": ".py",
   "mimetype": "text/x-python",
   "name": "python",
   "nbconvert_exporter": "python",
   "pygments_lexer": "ipython3",
   "version": "3.12.2"
  }
 },
 "nbformat": 4,
 "nbformat_minor": 2
}
